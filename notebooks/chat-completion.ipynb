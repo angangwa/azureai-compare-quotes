{
 "cells": [
  {
   "cell_type": "code",
   "execution_count": 1,
   "metadata": {},
   "outputs": [],
   "source": [
    "import os\n",
    "import sys\n",
    "import argparse\n",
    "import json\n",
    "from datetime import datetime\n",
    "from openai import AzureOpenAI\n",
    "from dotenv import load_dotenv\n",
    "from IPython.display import Markdown, display"
   ]
  },
  {
   "cell_type": "code",
   "execution_count": 2,
   "metadata": {},
   "outputs": [
    {
     "data": {
      "text/plain": [
       "True"
      ]
     },
     "execution_count": 2,
     "metadata": {},
     "output_type": "execute_result"
    }
   ],
   "source": [
    "load_dotenv()"
   ]
  },
  {
   "cell_type": "code",
   "execution_count": 3,
   "metadata": {},
   "outputs": [],
   "source": [
    "def setup_client(api_key, endpoint, deployment_name):\n",
    "    \"\"\"\n",
    "    Set up the Azure OpenAI client.\n",
    "\n",
    "    Args:\n",
    "        api_key (str): Azure OpenAI API key\n",
    "        endpoint (str): Azure OpenAI endpoint URL\n",
    "        deployment_name (str): Name of the deployed model\n",
    "\n",
    "    Returns:\n",
    "        AzureOpenAI client instance\n",
    "    \"\"\"\n",
    "    client = AzureOpenAI(\n",
    "        api_key=api_key,\n",
    "        api_version=\"2024-02-15-preview\",  # Make sure to use the correct API version for GPT-4o\n",
    "        azure_endpoint=endpoint,\n",
    "    )\n",
    "    return client\n",
    "\n",
    "\n",
    "def get_completion(\n",
    "    client,\n",
    "    deployment_name,\n",
    "    system_message,\n",
    "    user_prompt,\n",
    "    temperature=0.7,\n",
    "    max_tokens=1000,\n",
    "):\n",
    "    \"\"\"\n",
    "    Get a completion from the GPT-4o model.\n",
    "\n",
    "    Args:\n",
    "        client (AzureOpenAI): Azure OpenAI client\n",
    "        deployment_name (str): Name of the deployed model\n",
    "        system_message (str): System message to set context\n",
    "        user_prompt (str): User prompt to get completion for\n",
    "        temperature (float): Sampling temperature (0.0 to 1.0)\n",
    "        max_tokens (int): Maximum tokens to generate\n",
    "\n",
    "    Returns:\n",
    "        str: Model's response\n",
    "    \"\"\"\n",
    "    try:\n",
    "        response = client.chat.completions.create(\n",
    "            model=deployment_name,\n",
    "            messages=[\n",
    "                {\"role\": \"system\", \"content\": system_message},\n",
    "                {\"role\": \"user\", \"content\": user_prompt},\n",
    "            ],\n",
    "            temperature=temperature,\n",
    "            max_tokens=max_tokens,\n",
    "        )\n",
    "        return response.choices[0].message.content\n",
    "    except Exception as e:\n",
    "        return f\"Error: {str(e)}\""
   ]
  },
  {
   "cell_type": "code",
   "execution_count": 4,
   "metadata": {},
   "outputs": [],
   "source": [
    "client = setup_client(\n",
    "    api_key=os.getenv(\"AZURE_OPENAI_API_KEY\"),\n",
    "    endpoint=os.getenv(\"AZURE_OPENAI_ENDPOINT\"),\n",
    "    deployment_name=os.getenv(\"AZURE_OPENAI_DEPLOYMENT_NAME\"),\n",
    ")"
   ]
  },
  {
   "cell_type": "code",
   "execution_count": 5,
   "metadata": {},
   "outputs": [],
   "source": [
    "quote1 = open(\"../data/quote_1.json\", \"r\").read()\n",
    "quote2 = open(\"../data/quote_2.json\", \"r\").read()\n",
    "\n",
    "user_prompt = f\"\"\"\n",
    "Compare the following two quotes and provide an analysis of their similarities and differences.\n",
    "\n",
    "Quote 1:\n",
    "\n",
    "{quote1}\n",
    "\n",
    "Quote 2:\n",
    "\n",
    "{quote2}\n",
    "\"\"\"\n",
    "\n",
    "system_message = f\"\"\"\n",
    "You are an insurance advisor who helps customers compare two given quotes and provide a summary of both while highlighting their key differences. Your goal is to assist the customer in making an informed decision based solely on the information provided in the quotes.\n",
    "\n",
    "# Steps:\n",
    "\n",
    "1. Review the details of both insurance quotes carefully.\n",
    "2. Identify and summarize the key features of each quote, such as:\n",
    "   - Coverage (e.g., type of coverage, limits, exclusions, etc.).\n",
    "   - Total cost (e.g., premium, deductible, other charges, etc.).\n",
    "   - Benefits (e.g., additional services, value-added features, etc.).\n",
    "   - Limitations (e.g., restrictions, conditions, etc.).\n",
    "3. Consider the major differences between the quotes, pointing out advantages and disadvantages for each quote.\n",
    "4. Create key insights that are helpful in comparing the two quotes.\n",
    "5. Avoid adding any outside information, personal opinions, or recommendations not supported by the provided data.\n",
    "6. Format your output in a way that is clear, concise, and easy for customers to compare.\n",
    "\n",
    "# Output Format:\n",
    "\n",
    "Provide your response in the following format:\n",
    "\n",
    "**Key features of each quote:**\n",
    "[Table comparing the two quotes]\n",
    "\n",
    "**Key Insights:**\n",
    "- [Insights 1: Describe how Quote 1 and Quote 2 differ.]\n",
    "- [Insights N: Additional differences, if necessary.]\n",
    "\n",
    "**Final Note:**\n",
    "Based on this comparison, the choice depends on the customer's [specific factors or preferences, e.g., budget, coverage type, additional benefits]. Both options align differently with various priorities.\n",
    "\n",
    "# Notes:\n",
    "\n",
    "- Be objective and fact-based. Avoid personal biases.\n",
    "- Include all relevant differences, even if minor, as long as they might affect the customer’s decision.\n",
    "- Encourage the customer to decide based on their priorities, such as budget, type of coverage, or additional benefits.\n",
    "\"\"\""
   ]
  },
  {
   "cell_type": "code",
   "execution_count": 6,
   "metadata": {},
   "outputs": [
    {
     "data": {
      "text/markdown": [
       "**Key features of each quote:**\n",
       "\n",
       "| Feature                       | Quote 1                                              | Quote 2                                              |\n",
       "|-------------------------------|-----------------------------------------------------|-----------------------------------------------------|\n",
       "| **Quote Reference**           | 8048208602                                          | HAQ069514203                                        |\n",
       "| **Total Excess**              | £300 (Voluntary: £250, Compulsory: £50)            | £350 (Voluntary: £250, Compulsory: £100)           |\n",
       "| **Key Cover (Loss/Theft)**    | £1,000                                             | Up to contents sum insured                          |\n",
       "| **Contents Cover Limit**      | £75,000                                            | Included (varies based on requested amount)        |\n",
       "| **Single Item Limit**         | £2,000                                            | £1,500                                             |\n",
       "| **Valuables Total Limit**     | 40% of contents sum insured                        | £5,000 - £30,000                                   |\n",
       "| **Accidental Damage**         | Included                                           | Included                                           |\n",
       "| **Legal Cover Cost**          | £24.85 extra                                      | £21.36 extra                                      |\n",
       "| **Legal Expenses Claim Limit** | £100,000                                          | £50,000                                           |\n",
       "| **Home Emergency Cover Cost** | £39.95 extra                                      | £54 extra                                         |\n",
       "| **Home Emergency Claim Limit** | £500                                             | £1,000                                            |\n",
       "| **Contents in Outbuildings**  | Up to contents sum insured                         | Not included                                       |\n",
       "| **Contents in the Open**      | Not included                                       | Not included                                       |\n",
       "| **Plants in Garden**          | £1,000                                             | Not included                                       |\n",
       "| **Freezer Cover**             | Included                                           | Included                                           |\n",
       "| **Personal Possessions Cover** | Not included                                       | Not included                                       |\n",
       "| **Damage by Pets**            | Not included                                       | Not included                                       |\n",
       "\n",
       "**Key Insights:**\n",
       "- **Excess:** Quote 1 has a total excess of £300 compared to £350 in Quote 2, making Quote 1 slightly more favorable for claim situations.\n",
       "- **Key Cover:** Quote 1 offers a fixed amount for loss/theft at £1,000, while Quote 2 covers up to the total contents sum insured, providing potentially higher coverage.\n",
       "- **Contents Cover Limit:** Quote 1 clearly states a limit of £75,000, while Quote 2's limit is more variable, dependent on the requested amount, offering flexibility but less predictability.\n",
       "- **Single Item Limit:** Quote 1 allows for a higher single item limit at £2,000 compared to £1,500 in Quote 2, which may be advantageous for high-value items.\n",
       "- **Legal Cover Costs:** Quote 2 offers a lower cost for legal cover (£21.36) and has a lower claim limit (£50,000) compared to Quote 1 (£24.85 with a £100,000 limit).\n",
       "- **Home Emergency Coverage:** Quote 2 provides a higher claim limit (£1,000) for home emergencies but at a higher cost (£54) than Quote 1 (£39.95 for £500).\n",
       "- **Garden Protection:** Quote 1 provides £1,000 for plants in the garden, while Quote 2 does not include this coverage at all.\n",
       "\n",
       "**Final Note:**\n",
       "Based on this comparison, the choice depends on the customer's specific factors or preferences, such as budget considerations, coverage limits, and the importance of specific protections like garden coverage or higher single item limits. Both options align differently with various priorities, and customers should evaluate which features matter most to them."
      ],
      "text/plain": [
       "<IPython.core.display.Markdown object>"
      ]
     },
     "metadata": {},
     "output_type": "display_data"
    }
   ],
   "source": [
    "response = get_completion(\n",
    "    client=client,\n",
    "    deployment_name=os.getenv(\"AZURE_OPENAI_DEPLOYMENT_NAME\"),\n",
    "    system_message=system_message,\n",
    "    user_prompt=user_prompt,\n",
    ")\n",
    "display(Markdown(response))"
   ]
  },
  {
   "cell_type": "code",
   "execution_count": null,
   "metadata": {},
   "outputs": [],
   "source": []
  }
 ],
 "metadata": {
  "kernelspec": {
   "display_name": ".venv",
   "language": "python",
   "name": "python3"
  },
  "language_info": {
   "codemirror_mode": {
    "name": "ipython",
    "version": 3
   },
   "file_extension": ".py",
   "mimetype": "text/x-python",
   "name": "python",
   "nbconvert_exporter": "python",
   "pygments_lexer": "ipython3",
   "version": "3.13.2"
  }
 },
 "nbformat": 4,
 "nbformat_minor": 2
}
